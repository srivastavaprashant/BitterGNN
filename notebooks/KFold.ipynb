{
 "cells": [
  {
   "cell_type": "code",
   "execution_count": 1,
   "metadata": {},
   "outputs": [],
   "source": [
    "import os\n",
    "data_dir = 'data/'\n",
    "model_dir = 'models/'"
   ]
  },
  {
   "cell_type": "code",
   "execution_count": 2,
   "metadata": {},
   "outputs": [],
   "source": [
    "import pandas as pd\n",
    "import numpy as np\n",
    "import matplotlib.pyplot as plt"
   ]
  },
  {
   "cell_type": "code",
   "execution_count": 3,
   "metadata": {},
   "outputs": [
    {
     "name": "stderr",
     "output_type": "stream",
     "text": [
      "c:\\Users\\prashant\\.conda\\envs\\bittergcn\\lib\\site-packages\\tqdm\\auto.py:22: TqdmWarning: IProgress not found. Please update jupyter and ipywidgets. See https://ipywidgets.readthedocs.io/en/stable/user_install.html\n",
      "  from .autonotebook import tqdm as notebook_tqdm\n"
     ]
    }
   ],
   "source": [
    "import torch\n",
    "from torch_geometric.data import Data\n",
    "from torch_geometric.loader import DataLoader\n",
    "\n",
    "from sklearn.model_selection import train_test_split\n",
    "from sklearn.preprocessing import OneHotEncoder\n",
    "import scikitplot as skplt\n",
    "\n",
    "from torch.nn import Linear\n",
    "import torch.nn.functional as F\n",
    "from torch_geometric.nn import GCNConv\n",
    "from torch_geometric.nn import global_mean_pool, global_add_pool, global_max_pool"
   ]
  },
  {
   "cell_type": "code",
   "execution_count": 5,
   "metadata": {},
   "outputs": [],
   "source": [
    "from source.utils import read_data, preprocess, train, test, run_kfold_test\n",
    "from source.models import BitterGCN_Baseline, BitterGCN_MixedPool, BitterGAT_Baseline, \\\n",
    "    BitterGAT_MixedPool, BitterGraphSAGE_Baseline, BitterGraphSAGE_MixedPool\n",
    "        "
   ]
  },
  {
   "cell_type": "code",
   "execution_count": 4,
   "metadata": {},
   "outputs": [],
   "source": [
    "df = read_data(data_dir)"
   ]
  },
  {
   "cell_type": "code",
   "execution_count": 5,
   "metadata": {},
   "outputs": [
    {
     "data": {
      "text/plain": [
       "(Data(x=[2, 20], edge_index=[2, 2], y=0),\n",
       " Data(x=[8, 20], edge_index=[2, 14], y=1))"
      ]
     },
     "execution_count": 5,
     "metadata": {},
     "output_type": "execute_result"
    }
   ],
   "source": [
    "# k Fold\n",
    "nsplits = 10\n",
    "graph_data = preprocess(df)\n",
    "n=len(graph_data)\n",
    "graph_data[0], graph_data[7]"
   ]
  },
  {
   "cell_type": "markdown",
   "metadata": {},
   "source": [
    "### KFold"
   ]
  },
  {
   "cell_type": "code",
   "execution_count": 6,
   "metadata": {},
   "outputs": [],
   "source": [
    "kfold_res_df = pd.DataFrame(index = list(range(10)))"
   ]
  },
  {
   "cell_type": "code",
   "execution_count": 7,
   "metadata": {},
   "outputs": [
    {
     "name": "stdout",
     "output_type": "stream",
     "text": [
      "BitterGCN_Baseline(\n",
      "  (conv1): GCNConv(20, 32)\n",
      "  (conv2): GCNConv(32, 32)\n",
      "  (conv3): GCNConv(32, 32)\n",
      "  (lin): Linear(in_features=32, out_features=2, bias=True)\n",
      ")\n",
      "Fold 1:\n",
      "Test Acc: 0.81 ROC: 0.81\n",
      "Fold 2:\n",
      "Test Acc: 0.91 ROC: 0.97\n",
      "Fold 3:\n",
      "Test Acc: 0.84 ROC: 0.89\n",
      "Fold 4:\n",
      "Test Acc: 0.84 ROC: 0.91\n",
      "Fold 5:\n",
      "Test Acc: 0.8 ROC: 0.83\n",
      "Fold 6:\n",
      "Test Acc: 0.84 ROC: 0.92\n",
      "Fold 7:\n",
      "Test Acc: 0.81 ROC: 0.92\n",
      "Fold 8:\n",
      "Test Acc: 0.89 ROC: 0.9\n",
      "Fold 9:\n",
      "Test Acc: 0.8 ROC: 0.86\n",
      "Fold 10:\n",
      "Test Acc: 0.78 ROC: 0.77\n"
     ]
    }
   ],
   "source": [
    "model = BitterGCN_Baseline(hidden_channels=32)\n",
    "print(model)\n",
    "\n",
    "fold_test_acc, fold_test_roc = run_kfold_test(nsplits, graph_data, BitterGCN_Baseline)\n",
    "\n",
    "kfold_res_df.loc[:,'ACC_GCN_Baseline'] = fold_test_acc\n",
    "kfold_res_df.loc[:,'ROC_GCN_Baseline'] = fold_test_roc"
   ]
  },
  {
   "cell_type": "code",
   "execution_count": 8,
   "metadata": {},
   "outputs": [
    {
     "name": "stdout",
     "output_type": "stream",
     "text": [
      "BitterGCN_MixedPool(\n",
      "  (conv1): GCNConv(20, 32)\n",
      "  (conv2): GCNConv(32, 32)\n",
      "  (conv3): GCNConv(32, 32)\n",
      "  (lin): Linear(in_features=32, out_features=2, bias=True)\n",
      ")\n",
      "Fold 1:\n",
      "Test Acc: 0.86 ROC: 0.86\n",
      "Fold 2:\n",
      "Test Acc: 0.95 ROC: 0.98\n",
      "Fold 3:\n",
      "Test Acc: 0.91 ROC: 0.91\n",
      "Fold 4:\n",
      "Test Acc: 0.89 ROC: 0.91\n",
      "Fold 5:\n",
      "Test Acc: 0.77 ROC: 0.85\n",
      "Fold 6:\n",
      "Test Acc: 0.86 ROC: 0.9\n",
      "Fold 7:\n",
      "Test Acc: 0.88 ROC: 0.92\n",
      "Fold 8:\n",
      "Test Acc: 0.81 ROC: 0.87\n",
      "Fold 9:\n",
      "Test Acc: 0.88 ROC: 0.89\n",
      "Fold 10:\n",
      "Test Acc: 0.77 ROC: 0.8\n"
     ]
    }
   ],
   "source": [
    "model = BitterGCN_MixedPool(hidden_channels=32)\n",
    "print(model)\n",
    "\n",
    "fold_test_acc, fold_test_roc = run_kfold_test(nsplits, graph_data, BitterGCN_MixedPool)\n",
    "\n",
    "kfold_res_df.loc[:,'ACC_GCN_MixedPool'] = fold_test_acc\n",
    "kfold_res_df.loc[:,'ROC_GCN_MixedPool'] = fold_test_roc"
   ]
  },
  {
   "cell_type": "code",
   "execution_count": 9,
   "metadata": {},
   "outputs": [
    {
     "name": "stdout",
     "output_type": "stream",
     "text": [
      "BitterGAT_Baseline(\n",
      "  (conv1): GATConv(20, 32, heads=1)\n",
      "  (conv2): GATConv(32, 32, heads=1)\n",
      "  (conv3): GATConv(32, 32, heads=1)\n",
      "  (lin): Linear(in_features=32, out_features=2, bias=True)\n",
      ")\n",
      "Fold 1:\n",
      "Test Acc: 0.78 ROC: 0.81\n",
      "Fold 2:\n",
      "Test Acc: 0.81 ROC: 0.91\n",
      "Fold 3:\n",
      "Test Acc: 0.83 ROC: 0.85\n",
      "Fold 4:\n",
      "Test Acc: 0.88 ROC: 0.9\n",
      "Fold 5:\n",
      "Test Acc: 0.81 ROC: 0.85\n",
      "Fold 6:\n",
      "Test Acc: 0.84 ROC: 0.92\n",
      "Fold 7:\n",
      "Test Acc: 0.78 ROC: 0.93\n",
      "Fold 8:\n",
      "Test Acc: 0.88 ROC: 0.91\n",
      "Fold 9:\n",
      "Test Acc: 0.81 ROC: 0.87\n",
      "Fold 10:\n",
      "Test Acc: 0.7 ROC: 0.83\n"
     ]
    }
   ],
   "source": [
    "model = BitterGAT_Baseline(hidden_channels=32)\n",
    "print(model)\n",
    "\n",
    "fold_test_acc, fold_test_roc = run_kfold_test(nsplits, graph_data, BitterGAT_Baseline)\n",
    "\n",
    "kfold_res_df.loc[:,'ACC_GAT_Baseline'] = fold_test_acc\n",
    "kfold_res_df.loc[:,'ROC_GAT_Baseline'] = fold_test_roc"
   ]
  },
  {
   "cell_type": "code",
   "execution_count": 10,
   "metadata": {},
   "outputs": [
    {
     "name": "stdout",
     "output_type": "stream",
     "text": [
      "BitterGAT_MixedPool(\n",
      "  (conv1): GATConv(20, 32, heads=1)\n",
      "  (conv2): GATConv(32, 32, heads=1)\n",
      "  (conv3): GATConv(32, 32, heads=1)\n",
      "  (lin): Linear(in_features=32, out_features=2, bias=True)\n",
      ")\n",
      "Fold 1:\n",
      "Test Acc: 0.8 ROC: 0.85\n",
      "Fold 2:\n",
      "Test Acc: 0.83 ROC: 0.97\n",
      "Fold 3:\n",
      "Test Acc: 0.84 ROC: 0.9\n",
      "Fold 4:\n",
      "Test Acc: 0.89 ROC: 0.89\n",
      "Fold 5:\n",
      "Test Acc: 0.78 ROC: 0.84\n",
      "Fold 6:\n",
      "Test Acc: 0.88 ROC: 0.93\n",
      "Fold 7:\n",
      "Test Acc: 0.86 ROC: 0.93\n",
      "Fold 8:\n",
      "Test Acc: 0.8 ROC: 0.91\n",
      "Fold 9:\n",
      "Test Acc: 0.8 ROC: 0.89\n",
      "Fold 10:\n",
      "Test Acc: 0.78 ROC: 0.85\n"
     ]
    }
   ],
   "source": [
    "model = BitterGAT_MixedPool(hidden_channels=32)\n",
    "print(model)\n",
    "\n",
    "fold_test_acc, fold_test_roc = run_kfold_test(nsplits, graph_data, BitterGAT_MixedPool)\n",
    "\n",
    "kfold_res_df.loc[:,'ACC_GAT_MixedPool'] = fold_test_acc\n",
    "kfold_res_df.loc[:,'ROC_GAT_MixedPool'] = fold_test_roc"
   ]
  },
  {
   "cell_type": "code",
   "execution_count": 11,
   "metadata": {},
   "outputs": [
    {
     "name": "stdout",
     "output_type": "stream",
     "text": [
      "BitterGraphSAGE_Baseline(\n",
      "  (conv1): SAGEConv(20, 32)\n",
      "  (conv2): SAGEConv(32, 32)\n",
      "  (conv3): SAGEConv(32, 32)\n",
      "  (lin): Linear(in_features=32, out_features=2, bias=True)\n",
      ")\n",
      "Fold 1:\n",
      "Test Acc: 0.77 ROC: 0.86\n",
      "Fold 2:\n",
      "Test Acc: 0.89 ROC: 0.91\n",
      "Fold 3:\n",
      "Test Acc: 0.81 ROC: 0.92\n",
      "Fold 4:\n",
      "Test Acc: 0.77 ROC: 0.88\n",
      "Fold 5:\n",
      "Test Acc: 0.84 ROC: 0.88\n",
      "Fold 6:\n",
      "Test Acc: 0.84 ROC: 0.91\n",
      "Fold 7:\n",
      "Test Acc: 0.84 ROC: 0.93\n",
      "Fold 8:\n",
      "Test Acc: 0.84 ROC: 0.9\n",
      "Fold 9:\n",
      "Test Acc: 0.8 ROC: 0.82\n",
      "Fold 10:\n",
      "Test Acc: 0.72 ROC: 0.82\n"
     ]
    }
   ],
   "source": [
    "model = BitterGraphSAGE_Baseline(hidden_channels=32)\n",
    "print(model)\n",
    "\n",
    "fold_test_acc, fold_test_roc = run_kfold_test(nsplits, graph_data, BitterGraphSAGE_Baseline)\n",
    "\n",
    "kfold_res_df.loc[:,'ACC_GraphSAGE_Baseline'] = fold_test_acc\n",
    "kfold_res_df.loc[:,'ROC_GraphSAGE_Baseline'] = fold_test_roc"
   ]
  },
  {
   "cell_type": "code",
   "execution_count": 12,
   "metadata": {},
   "outputs": [
    {
     "name": "stdout",
     "output_type": "stream",
     "text": [
      "BitterGraphSAGE_MixedPool(\n",
      "  (conv1): SAGEConv(20, 32)\n",
      "  (conv2): SAGEConv(32, 32)\n",
      "  (conv3): SAGEConv(32, 32)\n",
      "  (lin): Linear(in_features=32, out_features=2, bias=True)\n",
      ")\n",
      "Fold 1:\n",
      "Test Acc: 0.75 ROC: 0.86\n",
      "Fold 2:\n",
      "Test Acc: 0.89 ROC: 0.94\n",
      "Fold 3:\n",
      "Test Acc: 0.86 ROC: 0.9\n",
      "Fold 4:\n",
      "Test Acc: 0.83 ROC: 0.91\n",
      "Fold 5:\n",
      "Test Acc: 0.83 ROC: 0.85\n",
      "Fold 6:\n",
      "Test Acc: 0.84 ROC: 0.89\n",
      "Fold 7:\n",
      "Test Acc: 0.81 ROC: 0.93\n",
      "Fold 8:\n",
      "Test Acc: 0.8 ROC: 0.91\n",
      "Fold 9:\n",
      "Test Acc: 0.83 ROC: 0.87\n",
      "Fold 10:\n",
      "Test Acc: 0.81 ROC: 0.83\n"
     ]
    }
   ],
   "source": [
    "model = BitterGraphSAGE_MixedPool(hidden_channels=32)\n",
    "print(model)\n",
    "\n",
    "fold_test_acc, fold_test_roc = run_kfold_test(nsplits, graph_data, BitterGraphSAGE_MixedPool)\n",
    "\n",
    "kfold_res_df.loc[:,'ACC_GraphSAGE_MixedPool'] = fold_test_acc\n",
    "kfold_res_df.loc[:,'ROC_GraphSAGE_MixedPool'] = fold_test_roc"
   ]
  },
  {
   "cell_type": "code",
   "execution_count": 15,
   "metadata": {},
   "outputs": [
    {
     "data": {
      "text/html": [
       "<div>\n",
       "<style scoped>\n",
       "    .dataframe tbody tr th:only-of-type {\n",
       "        vertical-align: middle;\n",
       "    }\n",
       "\n",
       "    .dataframe tbody tr th {\n",
       "        vertical-align: top;\n",
       "    }\n",
       "\n",
       "    .dataframe thead th {\n",
       "        text-align: right;\n",
       "    }\n",
       "</style>\n",
       "<table border=\"1\" class=\"dataframe\">\n",
       "  <thead>\n",
       "    <tr style=\"text-align: right;\">\n",
       "      <th></th>\n",
       "      <th>ACC_GCN_Baseline</th>\n",
       "      <th>ROC_GCN_Baseline</th>\n",
       "      <th>ACC_GCN_MixedPool</th>\n",
       "      <th>ROC_GCN_MixedPool</th>\n",
       "      <th>ACC_GAT_Baseline</th>\n",
       "      <th>ROC_GAT_Baseline</th>\n",
       "      <th>ACC_GAT_MixedPool</th>\n",
       "      <th>ROC_GAT_MixedPool</th>\n",
       "      <th>ACC_GraphSAGE_Baseline</th>\n",
       "      <th>ROC_GraphSAGE_Baseline</th>\n",
       "      <th>ACC_GraphSAGE_MixedPool</th>\n",
       "      <th>ROC_GraphSAGE_MixedPool</th>\n",
       "    </tr>\n",
       "  </thead>\n",
       "  <tbody>\n",
       "    <tr>\n",
       "      <th>0</th>\n",
       "      <td>0.81</td>\n",
       "      <td>0.81</td>\n",
       "      <td>0.86</td>\n",
       "      <td>0.86</td>\n",
       "      <td>0.78</td>\n",
       "      <td>0.81</td>\n",
       "      <td>0.80</td>\n",
       "      <td>0.85</td>\n",
       "      <td>0.77</td>\n",
       "      <td>0.86</td>\n",
       "      <td>0.75</td>\n",
       "      <td>0.86</td>\n",
       "    </tr>\n",
       "    <tr>\n",
       "      <th>1</th>\n",
       "      <td>0.91</td>\n",
       "      <td>0.97</td>\n",
       "      <td>0.95</td>\n",
       "      <td>0.98</td>\n",
       "      <td>0.81</td>\n",
       "      <td>0.91</td>\n",
       "      <td>0.83</td>\n",
       "      <td>0.97</td>\n",
       "      <td>0.89</td>\n",
       "      <td>0.91</td>\n",
       "      <td>0.89</td>\n",
       "      <td>0.94</td>\n",
       "    </tr>\n",
       "    <tr>\n",
       "      <th>2</th>\n",
       "      <td>0.84</td>\n",
       "      <td>0.89</td>\n",
       "      <td>0.91</td>\n",
       "      <td>0.91</td>\n",
       "      <td>0.83</td>\n",
       "      <td>0.85</td>\n",
       "      <td>0.84</td>\n",
       "      <td>0.90</td>\n",
       "      <td>0.81</td>\n",
       "      <td>0.92</td>\n",
       "      <td>0.86</td>\n",
       "      <td>0.90</td>\n",
       "    </tr>\n",
       "    <tr>\n",
       "      <th>3</th>\n",
       "      <td>0.84</td>\n",
       "      <td>0.91</td>\n",
       "      <td>0.89</td>\n",
       "      <td>0.91</td>\n",
       "      <td>0.88</td>\n",
       "      <td>0.90</td>\n",
       "      <td>0.89</td>\n",
       "      <td>0.89</td>\n",
       "      <td>0.77</td>\n",
       "      <td>0.88</td>\n",
       "      <td>0.83</td>\n",
       "      <td>0.91</td>\n",
       "    </tr>\n",
       "    <tr>\n",
       "      <th>4</th>\n",
       "      <td>0.80</td>\n",
       "      <td>0.83</td>\n",
       "      <td>0.77</td>\n",
       "      <td>0.85</td>\n",
       "      <td>0.81</td>\n",
       "      <td>0.85</td>\n",
       "      <td>0.78</td>\n",
       "      <td>0.84</td>\n",
       "      <td>0.84</td>\n",
       "      <td>0.88</td>\n",
       "      <td>0.83</td>\n",
       "      <td>0.85</td>\n",
       "    </tr>\n",
       "    <tr>\n",
       "      <th>5</th>\n",
       "      <td>0.84</td>\n",
       "      <td>0.92</td>\n",
       "      <td>0.86</td>\n",
       "      <td>0.90</td>\n",
       "      <td>0.84</td>\n",
       "      <td>0.92</td>\n",
       "      <td>0.88</td>\n",
       "      <td>0.93</td>\n",
       "      <td>0.84</td>\n",
       "      <td>0.91</td>\n",
       "      <td>0.84</td>\n",
       "      <td>0.89</td>\n",
       "    </tr>\n",
       "    <tr>\n",
       "      <th>6</th>\n",
       "      <td>0.81</td>\n",
       "      <td>0.92</td>\n",
       "      <td>0.88</td>\n",
       "      <td>0.92</td>\n",
       "      <td>0.78</td>\n",
       "      <td>0.93</td>\n",
       "      <td>0.86</td>\n",
       "      <td>0.93</td>\n",
       "      <td>0.84</td>\n",
       "      <td>0.93</td>\n",
       "      <td>0.81</td>\n",
       "      <td>0.93</td>\n",
       "    </tr>\n",
       "    <tr>\n",
       "      <th>7</th>\n",
       "      <td>0.89</td>\n",
       "      <td>0.90</td>\n",
       "      <td>0.81</td>\n",
       "      <td>0.87</td>\n",
       "      <td>0.88</td>\n",
       "      <td>0.91</td>\n",
       "      <td>0.80</td>\n",
       "      <td>0.91</td>\n",
       "      <td>0.84</td>\n",
       "      <td>0.90</td>\n",
       "      <td>0.80</td>\n",
       "      <td>0.91</td>\n",
       "    </tr>\n",
       "    <tr>\n",
       "      <th>8</th>\n",
       "      <td>0.80</td>\n",
       "      <td>0.86</td>\n",
       "      <td>0.88</td>\n",
       "      <td>0.89</td>\n",
       "      <td>0.81</td>\n",
       "      <td>0.87</td>\n",
       "      <td>0.80</td>\n",
       "      <td>0.89</td>\n",
       "      <td>0.80</td>\n",
       "      <td>0.82</td>\n",
       "      <td>0.83</td>\n",
       "      <td>0.87</td>\n",
       "    </tr>\n",
       "    <tr>\n",
       "      <th>9</th>\n",
       "      <td>0.78</td>\n",
       "      <td>0.77</td>\n",
       "      <td>0.77</td>\n",
       "      <td>0.80</td>\n",
       "      <td>0.70</td>\n",
       "      <td>0.83</td>\n",
       "      <td>0.78</td>\n",
       "      <td>0.85</td>\n",
       "      <td>0.72</td>\n",
       "      <td>0.82</td>\n",
       "      <td>0.81</td>\n",
       "      <td>0.83</td>\n",
       "    </tr>\n",
       "  </tbody>\n",
       "</table>\n",
       "</div>"
      ],
      "text/plain": [
       "   ACC_GCN_Baseline  ROC_GCN_Baseline  ACC_GCN_MixedPool  ROC_GCN_MixedPool  \\\n",
       "0              0.81              0.81               0.86               0.86   \n",
       "1              0.91              0.97               0.95               0.98   \n",
       "2              0.84              0.89               0.91               0.91   \n",
       "3              0.84              0.91               0.89               0.91   \n",
       "4              0.80              0.83               0.77               0.85   \n",
       "5              0.84              0.92               0.86               0.90   \n",
       "6              0.81              0.92               0.88               0.92   \n",
       "7              0.89              0.90               0.81               0.87   \n",
       "8              0.80              0.86               0.88               0.89   \n",
       "9              0.78              0.77               0.77               0.80   \n",
       "\n",
       "   ACC_GAT_Baseline  ROC_GAT_Baseline  ACC_GAT_MixedPool  ROC_GAT_MixedPool  \\\n",
       "0              0.78              0.81               0.80               0.85   \n",
       "1              0.81              0.91               0.83               0.97   \n",
       "2              0.83              0.85               0.84               0.90   \n",
       "3              0.88              0.90               0.89               0.89   \n",
       "4              0.81              0.85               0.78               0.84   \n",
       "5              0.84              0.92               0.88               0.93   \n",
       "6              0.78              0.93               0.86               0.93   \n",
       "7              0.88              0.91               0.80               0.91   \n",
       "8              0.81              0.87               0.80               0.89   \n",
       "9              0.70              0.83               0.78               0.85   \n",
       "\n",
       "   ACC_GraphSAGE_Baseline  ROC_GraphSAGE_Baseline  ACC_GraphSAGE_MixedPool  \\\n",
       "0                    0.77                    0.86                     0.75   \n",
       "1                    0.89                    0.91                     0.89   \n",
       "2                    0.81                    0.92                     0.86   \n",
       "3                    0.77                    0.88                     0.83   \n",
       "4                    0.84                    0.88                     0.83   \n",
       "5                    0.84                    0.91                     0.84   \n",
       "6                    0.84                    0.93                     0.81   \n",
       "7                    0.84                    0.90                     0.80   \n",
       "8                    0.80                    0.82                     0.83   \n",
       "9                    0.72                    0.82                     0.81   \n",
       "\n",
       "   ROC_GraphSAGE_MixedPool  \n",
       "0                     0.86  \n",
       "1                     0.94  \n",
       "2                     0.90  \n",
       "3                     0.91  \n",
       "4                     0.85  \n",
       "5                     0.89  \n",
       "6                     0.93  \n",
       "7                     0.91  \n",
       "8                     0.87  \n",
       "9                     0.83  "
      ]
     },
     "execution_count": 15,
     "metadata": {},
     "output_type": "execute_result"
    }
   ],
   "source": [
    "kfold_res_df"
   ]
  },
  {
   "cell_type": "code",
   "execution_count": 16,
   "metadata": {},
   "outputs": [
    {
     "data": {
      "text/plain": [
       "ACC_GCN_Baseline           0.832\n",
       "ROC_GCN_Baseline           0.878\n",
       "ACC_GCN_MixedPool          0.858\n",
       "ROC_GCN_MixedPool          0.889\n",
       "ACC_GAT_Baseline           0.812\n",
       "ROC_GAT_Baseline           0.878\n",
       "ACC_GAT_MixedPool          0.826\n",
       "ROC_GAT_MixedPool          0.896\n",
       "ACC_GraphSAGE_Baseline     0.812\n",
       "ROC_GraphSAGE_Baseline     0.883\n",
       "ACC_GraphSAGE_MixedPool    0.825\n",
       "ROC_GraphSAGE_MixedPool    0.889\n",
       "dtype: float64"
      ]
     },
     "execution_count": 16,
     "metadata": {},
     "output_type": "execute_result"
    }
   ],
   "source": [
    "kfold_res_df.mean()"
   ]
  },
  {
   "cell_type": "code",
   "execution_count": null,
   "metadata": {},
   "outputs": [],
   "source": []
  }
 ],
 "metadata": {
  "kernelspec": {
   "display_name": "Python 3.9.12 ('bittergcn')",
   "language": "python",
   "name": "python3"
  },
  "language_info": {
   "codemirror_mode": {
    "name": "ipython",
    "version": 3
   },
   "file_extension": ".py",
   "mimetype": "text/x-python",
   "name": "python",
   "nbconvert_exporter": "python",
   "pygments_lexer": "ipython3",
   "version": "3.9.12 (main, Apr  4 2022, 05:22:27) [MSC v.1916 64 bit (AMD64)]"
  },
  "orig_nbformat": 4,
  "vscode": {
   "interpreter": {
    "hash": "70d680ff6d465e39e32d4aba16f881a1997a3179fab20e951184281a6d1cc528"
   }
  }
 },
 "nbformat": 4,
 "nbformat_minor": 2
}

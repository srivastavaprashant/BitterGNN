{
 "cells": [
  {
   "cell_type": "code",
   "execution_count": 21,
   "metadata": {},
   "outputs": [],
   "source": [
    "import pandas as pd\n",
    "import numpy as np"
   ]
  },
  {
   "cell_type": "code",
   "execution_count": 22,
   "metadata": {},
   "outputs": [],
   "source": [
    "import torch\n",
    "from torch_geometric.data import Data\n",
    "from torch_geometric.loader import DataLoader\n",
    "\n",
    "from sklearn.model_selection import train_test_split\n",
    "from sklearn.preprocessing import OneHotEncoder\n",
    "import scikitplot as skplt\n",
    "\n",
    "from torch.nn import Linear\n",
    "import torch.nn.functional as F\n",
    "from torch_geometric.nn import GCNConv\n",
    "from torch_geometric.nn import global_mean_pool"
   ]
  },
  {
   "cell_type": "code",
   "execution_count": 23,
   "metadata": {},
   "outputs": [],
   "source": [
    "train_pos = pd.read_csv('train-positive.txt', header=None)\n",
    "train_neg = pd.read_csv('train-negative.txt', header=None)\n",
    "test_pos = pd.read_csv('test-positive.txt', header=None)\n",
    "test_neg = pd.read_csv('test-negative.txt', header=None)"
   ]
  },
  {
   "cell_type": "code",
   "execution_count": 24,
   "metadata": {},
   "outputs": [],
   "source": [
    "train_pos = pd.DataFrame([train_pos[::2].reset_index(drop=True)[0], train_pos[1::2].reset_index(drop=True)[0]]).T\n",
    "train_neg = pd.DataFrame([train_neg[::2].reset_index(drop=True)[0], train_neg[1::2].reset_index(drop=True)[0]]).T\n",
    "test_pos = pd.DataFrame([test_pos[::2].reset_index(drop=True)[0], test_pos[1::2].reset_index(drop=True)[0]]).T\n",
    "test_neg = pd.DataFrame([test_neg[::2].reset_index(drop=True)[0], test_neg[1::2].reset_index(drop=True)[0]]).T"
   ]
  },
  {
   "cell_type": "code",
   "execution_count": 25,
   "metadata": {},
   "outputs": [
    {
     "data": {
      "text/html": [
       "<div>\n",
       "<style scoped>\n",
       "    .dataframe tbody tr th:only-of-type {\n",
       "        vertical-align: middle;\n",
       "    }\n",
       "\n",
       "    .dataframe tbody tr th {\n",
       "        vertical-align: top;\n",
       "    }\n",
       "\n",
       "    .dataframe thead th {\n",
       "        text-align: right;\n",
       "    }\n",
       "</style>\n",
       "<table border=\"1\" class=\"dataframe\">\n",
       "  <thead>\n",
       "    <tr style=\"text-align: right;\">\n",
       "      <th></th>\n",
       "      <th>bitter</th>\n",
       "      <th>seq</th>\n",
       "    </tr>\n",
       "  </thead>\n",
       "  <tbody>\n",
       "    <tr>\n",
       "      <th>0</th>\n",
       "      <td>Negative</td>\n",
       "      <td>AA</td>\n",
       "    </tr>\n",
       "    <tr>\n",
       "      <th>1</th>\n",
       "      <td>Negative</td>\n",
       "      <td>IKP</td>\n",
       "    </tr>\n",
       "    <tr>\n",
       "      <th>2</th>\n",
       "      <td>Negative</td>\n",
       "      <td>ILP</td>\n",
       "    </tr>\n",
       "    <tr>\n",
       "      <th>3</th>\n",
       "      <td>Negative</td>\n",
       "      <td>PFFDPQIP</td>\n",
       "    </tr>\n",
       "    <tr>\n",
       "      <th>4</th>\n",
       "      <td>Negative</td>\n",
       "      <td>IPQEVLP</td>\n",
       "    </tr>\n",
       "    <tr>\n",
       "      <th>...</th>\n",
       "      <td>...</td>\n",
       "      <td>...</td>\n",
       "    </tr>\n",
       "    <tr>\n",
       "      <th>635</th>\n",
       "      <td>Negative</td>\n",
       "      <td>NPPHQIYP</td>\n",
       "    </tr>\n",
       "    <tr>\n",
       "      <th>636</th>\n",
       "      <td>Negative</td>\n",
       "      <td>AIYK</td>\n",
       "    </tr>\n",
       "    <tr>\n",
       "      <th>637</th>\n",
       "      <td>Negative</td>\n",
       "      <td>ENGLPVHLDQSIFRRP</td>\n",
       "    </tr>\n",
       "    <tr>\n",
       "      <th>638</th>\n",
       "      <td>Negative</td>\n",
       "      <td>AMKPW</td>\n",
       "    </tr>\n",
       "    <tr>\n",
       "      <th>639</th>\n",
       "      <td>Negative</td>\n",
       "      <td>GYALPHA</td>\n",
       "    </tr>\n",
       "  </tbody>\n",
       "</table>\n",
       "<p>640 rows × 2 columns</p>\n",
       "</div>"
      ],
      "text/plain": [
       "       bitter               seq\n",
       "0    Negative                AA\n",
       "1    Negative               IKP\n",
       "2    Negative               ILP\n",
       "3    Negative          PFFDPQIP\n",
       "4    Negative           IPQEVLP\n",
       "..        ...               ...\n",
       "635  Negative          NPPHQIYP\n",
       "636  Negative              AIYK\n",
       "637  Negative  ENGLPVHLDQSIFRRP\n",
       "638  Negative             AMKPW\n",
       "639  Negative           GYALPHA\n",
       "\n",
       "[640 rows x 2 columns]"
      ]
     },
     "execution_count": 25,
     "metadata": {},
     "output_type": "execute_result"
    }
   ],
   "source": [
    "df = test_neg.append(test_pos).append(train_pos).append(train_neg).reset_index(drop=True)\n",
    "df.iloc[:,0] = df.iloc[:,0].apply(lambda x: x.split(' ')[0][1:])\n",
    "df.columns = ['bitter', 'seq']\n",
    "df"
   ]
  },
  {
   "cell_type": "code",
   "execution_count": 26,
   "metadata": {},
   "outputs": [],
   "source": [
    "df = df.sample(frac=1)"
   ]
  },
  {
   "cell_type": "code",
   "execution_count": 27,
   "metadata": {},
   "outputs": [],
   "source": [
    "df = df.sample(frac=1)\n",
    "labels = df.bitter.apply(lambda x: 1 if x=='Positive' else 0).values\n",
    "seq = df.seq.values"
   ]
  },
  {
   "cell_type": "code",
   "execution_count": 28,
   "metadata": {},
   "outputs": [],
   "source": [
    "descriptors = list(set([j for i in seq for j in i]))\n",
    "enc = OneHotEncoder()\n",
    "X = np.array(descriptors).reshape((-1, 1))\n",
    "enc_arrays = enc.fit(X)"
   ]
  },
  {
   "cell_type": "code",
   "execution_count": 29,
   "metadata": {},
   "outputs": [],
   "source": [
    "def create_graph_data(str, label):\n",
    "    n = len(str)\n",
    "    edge_index_up = [[i, i+1] for i in range(n-1)]\n",
    "    edge_index_down = [[i+1, i] for i in range(n-1)]\n",
    "    edge_index = torch.tensor(edge_index_down + edge_index_up, dtype=torch.long)\n",
    "\n",
    "    node_feats = enc.transform([[i] for i in str]).toarray()\n",
    "    node_features = torch.tensor(node_feats, dtype=torch.float) \n",
    "    label = torch.tensor(label)\n",
    "    d = Data(x = node_features, edge_index=edge_index.t().contiguous(), y = label)\n",
    "\n",
    "    return(d)"
   ]
  },
  {
   "cell_type": "code",
   "execution_count": 30,
   "metadata": {},
   "outputs": [],
   "source": [
    "data_list = []"
   ]
  },
  {
   "cell_type": "code",
   "execution_count": 31,
   "metadata": {},
   "outputs": [],
   "source": [
    "for i in range(len(labels)):\n",
    "    d = create_graph_data(seq[i], labels[i])\n",
    "\n",
    "    data_list.append(d)"
   ]
  },
  {
   "cell_type": "code",
   "execution_count": 32,
   "metadata": {},
   "outputs": [],
   "source": [
    "train_data, test_data = train_test_split(data_list, test_size=0.1)"
   ]
  },
  {
   "cell_type": "code",
   "execution_count": 33,
   "metadata": {},
   "outputs": [],
   "source": [
    "train_loader = DataLoader(train_data, batch_size=64, shuffle=True)\n",
    "test_loader = DataLoader(test_data, batch_size=64, shuffle = True)"
   ]
  },
  {
   "cell_type": "code",
   "execution_count": 34,
   "metadata": {},
   "outputs": [
    {
     "name": "stdout",
     "output_type": "stream",
     "text": [
      "Step 1:\n",
      "=======\n",
      "Number of graphs in the current batch: 64\n",
      "DataBatch(x=[353, 20], edge_index=[2, 578], y=[64], batch=[353], ptr=[65])\n",
      "\n",
      "Step 2:\n",
      "=======\n",
      "Number of graphs in the current batch: 64\n",
      "DataBatch(x=[354, 20], edge_index=[2, 580], y=[64], batch=[354], ptr=[65])\n",
      "\n",
      "Step 3:\n",
      "=======\n",
      "Number of graphs in the current batch: 64\n",
      "DataBatch(x=[391, 20], edge_index=[2, 654], y=[64], batch=[391], ptr=[65])\n",
      "\n",
      "Step 4:\n",
      "=======\n",
      "Number of graphs in the current batch: 64\n",
      "DataBatch(x=[323, 20], edge_index=[2, 518], y=[64], batch=[323], ptr=[65])\n",
      "\n",
      "Step 5:\n",
      "=======\n",
      "Number of graphs in the current batch: 64\n",
      "DataBatch(x=[365, 20], edge_index=[2, 602], y=[64], batch=[365], ptr=[65])\n",
      "\n",
      "Step 6:\n",
      "=======\n",
      "Number of graphs in the current batch: 64\n",
      "DataBatch(x=[312, 20], edge_index=[2, 496], y=[64], batch=[312], ptr=[65])\n",
      "\n",
      "Step 7:\n",
      "=======\n",
      "Number of graphs in the current batch: 64\n",
      "DataBatch(x=[329, 20], edge_index=[2, 530], y=[64], batch=[329], ptr=[65])\n",
      "\n",
      "Step 8:\n",
      "=======\n",
      "Number of graphs in the current batch: 64\n",
      "DataBatch(x=[301, 20], edge_index=[2, 474], y=[64], batch=[301], ptr=[65])\n",
      "\n",
      "Step 9:\n",
      "=======\n",
      "Number of graphs in the current batch: 64\n",
      "DataBatch(x=[341, 20], edge_index=[2, 554], y=[64], batch=[341], ptr=[65])\n",
      "\n"
     ]
    }
   ],
   "source": [
    "for step, data in enumerate(train_loader):\n",
    "    print(f'Step {step + 1}:')\n",
    "    print('=======')\n",
    "    print(f'Number of graphs in the current batch: {data.num_graphs}')\n",
    "    print(data)\n",
    "    print()"
   ]
  },
  {
   "cell_type": "code",
   "execution_count": 35,
   "metadata": {},
   "outputs": [
    {
     "name": "stdout",
     "output_type": "stream",
     "text": [
      "GCN(\n",
      "  (conv1): GCNConv(20, 64)\n",
      "  (conv2): GCNConv(64, 64)\n",
      "  (conv3): GCNConv(64, 64)\n",
      "  (conv4): GCNConv(64, 64)\n",
      "  (conv5): GCNConv(64, 64)\n",
      "  (conv6): GCNConv(64, 64)\n",
      "  (conv7): GCNConv(64, 64)\n",
      "  (conv8): GCNConv(64, 64)\n",
      "  (conv9): GCNConv(64, 64)\n",
      "  (conv10): GCNConv(64, 64)\n",
      "  (conv11): GCNConv(64, 64)\n",
      "  (conv12): GCNConv(64, 64)\n",
      "  (lin): Linear(in_features=64, out_features=2, bias=True)\n",
      ")\n"
     ]
    }
   ],
   "source": [
    "class GCN(torch.nn.Module):\n",
    "    def __init__(self, hidden_channels):\n",
    "        super(GCN, self).__init__()\n",
    "        torch.manual_seed(12345)\n",
    "        self.conv1 = GCNConv(20, hidden_channels)\n",
    "        self.conv2 = GCNConv(hidden_channels, hidden_channels)\n",
    "        self.conv3 = GCNConv(hidden_channels, hidden_channels)\n",
    "        self.conv4 = GCNConv(hidden_channels, hidden_channels)\n",
    "        self.conv5 = GCNConv(hidden_channels, hidden_channels)\n",
    "        self.conv6 = GCNConv(hidden_channels, hidden_channels)\n",
    "        self.conv7 = GCNConv(hidden_channels, hidden_channels)\n",
    "        self.conv8 = GCNConv(hidden_channels, hidden_channels)\n",
    "        self.conv9 = GCNConv(hidden_channels, hidden_channels)\n",
    "        self.conv10 = GCNConv(hidden_channels, hidden_channels)\n",
    "        self.conv11 = GCNConv(hidden_channels, hidden_channels)\n",
    "        self.conv12 = GCNConv(hidden_channels, hidden_channels)\n",
    "        self.lin = Linear(hidden_channels, 2)\n",
    "\n",
    "    def forward(self, x, edge_index, batch):\n",
    "        # 1. Obtain node embeddings \n",
    "        x = self.conv1(x, edge_index)\n",
    "        x = x.relu()\n",
    "        x = self.conv2(x, edge_index)\n",
    "        x = x.relu()\n",
    "        x = self.conv3(x, edge_index)\n",
    "        x = x.relu()\n",
    "        x = self.conv4(x, edge_index)\n",
    "        x = x.relu()\n",
    "        x = self.conv5(x, edge_index)\n",
    "        x = x.relu()\n",
    "        x = self.conv6(x, edge_index)\n",
    "        x = x.relu()\n",
    "        x = self.conv7(x, edge_index)\n",
    "        x = x.relu()\n",
    "        x = self.conv8(x, edge_index)\n",
    "        x = x.relu()\n",
    "        x = self.conv9(x, edge_index)\n",
    "        x = x.relu()\n",
    "        x = self.conv10(x, edge_index)\n",
    "        x = x.relu()\n",
    "        x = self.conv11(x, edge_index)\n",
    "        x = x.relu()\n",
    "        x = self.conv12(x, edge_index)\n",
    "\n",
    "        # 2. Readout layer\n",
    "        x = global_mean_pool(x, batch)  # [batch_size, hidden_channels]\n",
    "\n",
    "        # 3. Apply a final classifier\n",
    "        x = F.dropout(x, p=0.5, training=self.training)\n",
    "        x = self.lin(x)\n",
    "        \n",
    "        return x\n",
    "\n",
    "model = GCN(hidden_channels=64)\n",
    "print(model)"
   ]
  },
  {
   "cell_type": "code",
   "execution_count": 36,
   "metadata": {},
   "outputs": [
    {
     "name": "stdout",
     "output_type": "stream",
     "text": [
      "Epoch: 001, Train Acc: 0.5052, Test Acc: 0.4531\n",
      "Epoch: 002, Train Acc: 0.7188, Test Acc: 0.6406\n",
      "Epoch: 003, Train Acc: 0.7431, Test Acc: 0.6562\n",
      "Epoch: 004, Train Acc: 0.7778, Test Acc: 0.7344\n",
      "Epoch: 005, Train Acc: 0.8299, Test Acc: 0.7812\n",
      "Epoch: 006, Train Acc: 0.8403, Test Acc: 0.7656\n",
      "Epoch: 007, Train Acc: 0.8003, Test Acc: 0.7500\n",
      "Epoch: 008, Train Acc: 0.8542, Test Acc: 0.7969\n",
      "Epoch: 009, Train Acc: 0.8611, Test Acc: 0.7812\n",
      "Epoch: 010, Train Acc: 0.8733, Test Acc: 0.7812\n",
      "Epoch: 011, Train Acc: 0.8681, Test Acc: 0.8125\n",
      "Epoch: 012, Train Acc: 0.8785, Test Acc: 0.8281\n",
      "Epoch: 013, Train Acc: 0.8906, Test Acc: 0.8281\n",
      "Epoch: 014, Train Acc: 0.8750, Test Acc: 0.8438\n",
      "Epoch: 015, Train Acc: 0.8698, Test Acc: 0.7500\n",
      "Epoch: 016, Train Acc: 0.8681, Test Acc: 0.8594\n",
      "Epoch: 017, Train Acc: 0.8802, Test Acc: 0.8594\n",
      "Epoch: 018, Train Acc: 0.8872, Test Acc: 0.7969\n",
      "Epoch: 019, Train Acc: 0.8559, Test Acc: 0.7812\n"
     ]
    }
   ],
   "source": [
    "model = GCN(hidden_channels=16)\n",
    "optimizer = torch.optim.Adam(model.parameters(), lr=0.01)\n",
    "criterion = torch.nn.CrossEntropyLoss()\n",
    "\n",
    "def train():\n",
    "    model.train()\n",
    "\n",
    "    for data in train_loader:  # Iterate in batches over the training dataset.\n",
    "         out = model(data.x, data.edge_index, data.batch)  # Perform a single forward pass.\n",
    "         loss = criterion(out, data.y)  # Compute the loss.\n",
    "         loss.backward()  # Derive gradients.\n",
    "         optimizer.step()  # Update parameters based on gradients.\n",
    "         optimizer.zero_grad()  # Clear gradients.\n",
    "\n",
    "def test(loader):\n",
    "     model.eval()\n",
    "\n",
    "     correct = 0\n",
    "     for data in loader:  # Iterate in batches over the training/test dataset.\n",
    "         out = model(data.x, data.edge_index, data.batch)  \n",
    "         pred = out.argmax(dim=1)  # Use the class with highest probability.\n",
    "         correct += int((pred == data.y).sum())  # Check against ground-truth labels.\n",
    "     return correct / len(loader.dataset)  # Derive ratio of correct predictions.\n",
    "\n",
    "\n",
    "for epoch in range(1, 20):\n",
    "    train()\n",
    "    train_acc = test(train_loader)\n",
    "    test_acc = test(test_loader)\n",
    "    print(f'Epoch: {epoch:03d}, Train Acc: {train_acc:.4f}, Test Acc: {test_acc:.4f}')"
   ]
  },
  {
   "cell_type": "code",
   "execution_count": 37,
   "metadata": {},
   "outputs": [],
   "source": [
    "for data in test_loader:\n",
    "    out = model(data.x, data.edge_index, data.batch)\n",
    "    lab = data.y"
   ]
  },
  {
   "cell_type": "code",
   "execution_count": 38,
   "metadata": {},
   "outputs": [
    {
     "data": {
      "text/plain": [
       "torch.Size([64, 2])"
      ]
     },
     "execution_count": 38,
     "metadata": {},
     "output_type": "execute_result"
    }
   ],
   "source": [
    "out.shape"
   ]
  },
  {
   "cell_type": "code",
   "execution_count": 39,
   "metadata": {},
   "outputs": [
    {
     "data": {
      "text/plain": [
       "torch.Size([64])"
      ]
     },
     "execution_count": 39,
     "metadata": {},
     "output_type": "execute_result"
    }
   ],
   "source": [
    "lab.shape"
   ]
  },
  {
   "cell_type": "code",
   "execution_count": 40,
   "metadata": {},
   "outputs": [
    {
     "data": {
      "text/plain": [
       "<AxesSubplot:title={'center':'ROC Curves'}, xlabel='False Positive Rate', ylabel='True Positive Rate'>"
      ]
     },
     "execution_count": 40,
     "metadata": {},
     "output_type": "execute_result"
    },
    {
     "data": {
      "image/png": "[encoded data removed]",
      "text/plain": [
       "<Figure size 432x288 with 1 Axes>"
      ]
     },
     "metadata": {
      "needs_background": "light"
     },
     "output_type": "display_data"
    }
   ],
   "source": [
    "skplt.metrics.plot_roc(lab, out.detach().numpy())"
   ]
  },
  {
   "cell_type": "code",
   "execution_count": null,
   "metadata": {},
   "outputs": [],
   "source": []
  }
 ],
 "metadata": {
  "interpreter": {
   "hash": "b3ba2566441a7c06988d0923437866b63cedc61552a5af99d1f4fb67d367b25f"
  },
  "kernelspec": {
   "display_name": "Python 3.9.7 ('base')",
   "language": "python",
   "name": "python3"
  },
  "language_info": {
   "codemirror_mode": {
    "name": "ipython",
    "version": 3
   },
   "file_extension": ".py",
   "mimetype": "text/x-python",
   "name": "python",
   "nbconvert_exporter": "python",
   "pygments_lexer": "ipython3",
   "version": "3.9.7"
  },
  "orig_nbformat": 4
 },
 "nbformat": 4,
 "nbformat_minor": 2
}

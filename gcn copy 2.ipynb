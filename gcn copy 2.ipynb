{
 "cells": [
  {
   "cell_type": "code",
   "execution_count": 1,
   "metadata": {},
   "outputs": [],
   "source": [
    "import pandas as pd\n",
    "import numpy as np"
   ]
  },
  {
   "cell_type": "code",
   "execution_count": 38,
   "metadata": {},
   "outputs": [],
   "source": [
    "import torch\n",
    "from torch_geometric.data import Data\n",
    "from torch_geometric.loader import DataLoader\n",
    "from torch_geometric.utils import to_networkx\n",
    "from sklearn.model_selection import train_test_split\n",
    "from sklearn.preprocessing import OneHotEncoder\n",
    "import scikitplot as skplt\n",
    "\n",
    "from torch.nn import Linear\n",
    "import torch.nn.functional as F\n",
    "from torch_geometric.nn import GCNConv, GlobalAttention\n",
    "from torch_geometric.nn import global_mean_pool\n",
    "import networkx as nx"
   ]
  },
  {
   "cell_type": "code",
   "execution_count": 22,
   "metadata": {},
   "outputs": [],
   "source": [
    "train_pos = pd.read_csv('train-positive.txt', header=None)\n",
    "train_neg = pd.read_csv('train-negative.txt', header=None)\n",
    "test_pos = pd.read_csv('test-positive.txt', header=None)\n",
    "test_neg = pd.read_csv('test-negative.txt', header=None)"
   ]
  },
  {
   "cell_type": "code",
   "execution_count": 23,
   "metadata": {},
   "outputs": [],
   "source": [
    "train_pos = pd.DataFrame([train_pos[::2].reset_index(drop=True)[0], train_pos[1::2].reset_index(drop=True)[0]]).T\n",
    "train_neg = pd.DataFrame([train_neg[::2].reset_index(drop=True)[0], train_neg[1::2].reset_index(drop=True)[0]]).T\n",
    "test_pos = pd.DataFrame([test_pos[::2].reset_index(drop=True)[0], test_pos[1::2].reset_index(drop=True)[0]]).T\n",
    "test_neg = pd.DataFrame([test_neg[::2].reset_index(drop=True)[0], test_neg[1::2].reset_index(drop=True)[0]]).T"
   ]
  },
  {
   "cell_type": "code",
   "execution_count": 24,
   "metadata": {},
   "outputs": [
    {
     "data": {
      "text/html": [
       "<div>\n",
       "<style scoped>\n",
       "    .dataframe tbody tr th:only-of-type {\n",
       "        vertical-align: middle;\n",
       "    }\n",
       "\n",
       "    .dataframe tbody tr th {\n",
       "        vertical-align: top;\n",
       "    }\n",
       "\n",
       "    .dataframe thead th {\n",
       "        text-align: right;\n",
       "    }\n",
       "</style>\n",
       "<table border=\"1\" class=\"dataframe\">\n",
       "  <thead>\n",
       "    <tr style=\"text-align: right;\">\n",
       "      <th></th>\n",
       "      <th>bitter</th>\n",
       "      <th>seq</th>\n",
       "    </tr>\n",
       "  </thead>\n",
       "  <tbody>\n",
       "    <tr>\n",
       "      <th>0</th>\n",
       "      <td>Negative</td>\n",
       "      <td>AA</td>\n",
       "    </tr>\n",
       "    <tr>\n",
       "      <th>1</th>\n",
       "      <td>Negative</td>\n",
       "      <td>IKP</td>\n",
       "    </tr>\n",
       "    <tr>\n",
       "      <th>2</th>\n",
       "      <td>Negative</td>\n",
       "      <td>ILP</td>\n",
       "    </tr>\n",
       "    <tr>\n",
       "      <th>3</th>\n",
       "      <td>Negative</td>\n",
       "      <td>PFFDPQIP</td>\n",
       "    </tr>\n",
       "    <tr>\n",
       "      <th>4</th>\n",
       "      <td>Negative</td>\n",
       "      <td>IPQEVLP</td>\n",
       "    </tr>\n",
       "    <tr>\n",
       "      <th>...</th>\n",
       "      <td>...</td>\n",
       "      <td>...</td>\n",
       "    </tr>\n",
       "    <tr>\n",
       "      <th>635</th>\n",
       "      <td>Negative</td>\n",
       "      <td>NPPHQIYP</td>\n",
       "    </tr>\n",
       "    <tr>\n",
       "      <th>636</th>\n",
       "      <td>Negative</td>\n",
       "      <td>AIYK</td>\n",
       "    </tr>\n",
       "    <tr>\n",
       "      <th>637</th>\n",
       "      <td>Negative</td>\n",
       "      <td>ENGLPVHLDQSIFRRP</td>\n",
       "    </tr>\n",
       "    <tr>\n",
       "      <th>638</th>\n",
       "      <td>Negative</td>\n",
       "      <td>AMKPW</td>\n",
       "    </tr>\n",
       "    <tr>\n",
       "      <th>639</th>\n",
       "      <td>Negative</td>\n",
       "      <td>GYALPHA</td>\n",
       "    </tr>\n",
       "  </tbody>\n",
       "</table>\n",
       "<p>640 rows × 2 columns</p>\n",
       "</div>"
      ],
      "text/plain": [
       "       bitter               seq\n",
       "0    Negative                AA\n",
       "1    Negative               IKP\n",
       "2    Negative               ILP\n",
       "3    Negative          PFFDPQIP\n",
       "4    Negative           IPQEVLP\n",
       "..        ...               ...\n",
       "635  Negative          NPPHQIYP\n",
       "636  Negative              AIYK\n",
       "637  Negative  ENGLPVHLDQSIFRRP\n",
       "638  Negative             AMKPW\n",
       "639  Negative           GYALPHA\n",
       "\n",
       "[640 rows x 2 columns]"
      ]
     },
     "execution_count": 24,
     "metadata": {},
     "output_type": "execute_result"
    }
   ],
   "source": [
    "df = test_neg.append(test_pos).append(train_pos).append(train_neg).reset_index(drop=True)\n",
    "df.iloc[:,0] = df.iloc[:,0].apply(lambda x: x.split(' ')[0][1:])\n",
    "df.columns = ['bitter', 'seq']\n",
    "df"
   ]
  },
  {
   "cell_type": "code",
   "execution_count": 25,
   "metadata": {},
   "outputs": [],
   "source": [
    "df = df.sample(frac=1)"
   ]
  },
  {
   "cell_type": "code",
   "execution_count": 26,
   "metadata": {},
   "outputs": [],
   "source": [
    "df = df.sample(frac=1)\n",
    "labels = df.bitter.apply(lambda x: 1 if x=='Positive' else 0).values\n",
    "seq = df.seq.values"
   ]
  },
  {
   "cell_type": "code",
   "execution_count": 27,
   "metadata": {},
   "outputs": [],
   "source": [
    "descriptors = list(set([j for i in seq for j in i]))\n",
    "enc = OneHotEncoder()\n",
    "X = np.array(descriptors).reshape((-1, 1))\n",
    "enc_arrays = enc.fit(X)"
   ]
  },
  {
   "cell_type": "code",
   "execution_count": 28,
   "metadata": {},
   "outputs": [],
   "source": [
    "def create_graph_data(str, label):\n",
    "    n = len(str)\n",
    "    edge_index_up = [[i, i+1] for i in range(n-1)]\n",
    "    edge_index_down = [[i+1, i] for i in range(n-1)]\n",
    "    edge_index = torch.tensor(edge_index_down + edge_index_up, dtype=torch.long)\n",
    "\n",
    "    node_feats = enc.transform([[i] for i in str]).toarray()\n",
    "    node_features = torch.tensor(node_feats, dtype=torch.float) \n",
    "    label = torch.tensor(label)\n",
    "    d = Data(x = node_features, edge_index=edge_index.t().contiguous(), y = label)\n",
    "\n",
    "    return(d)"
   ]
  },
  {
   "cell_type": "code",
   "execution_count": 29,
   "metadata": {},
   "outputs": [],
   "source": [
    "data_list = []"
   ]
  },
  {
   "cell_type": "code",
   "execution_count": 30,
   "metadata": {},
   "outputs": [],
   "source": [
    "for i in range(len(labels)):\n",
    "    d = create_graph_data(seq[i], labels[i])\n",
    "\n",
    "    data_list.append(d)"
   ]
  },
  {
   "cell_type": "code",
   "execution_count": 31,
   "metadata": {},
   "outputs": [],
   "source": [
    "train_data, test_data = train_test_split(data_list, test_size=0.1)"
   ]
  },
  {
   "cell_type": "code",
   "execution_count": 32,
   "metadata": {},
   "outputs": [],
   "source": [
    "train_loader = DataLoader(train_data, batch_size=32, shuffle=True)\n",
    "test_loader = DataLoader(test_data, batch_size=32, shuffle = True)"
   ]
  },
  {
   "cell_type": "code",
   "execution_count": 33,
   "metadata": {},
   "outputs": [
    {
     "data": {
      "text/plain": [
       "Data(x=[2, 20], edge_index=[2, 2], y=1)"
      ]
     },
     "execution_count": 33,
     "metadata": {},
     "output_type": "execute_result"
    }
   ],
   "source": [
    "d"
   ]
  },
  {
   "cell_type": "code",
   "execution_count": 34,
   "metadata": {},
   "outputs": [
    {
     "name": "stdout",
     "output_type": "stream",
     "text": [
      "Step 1:\n",
      "=======\n",
      "Number of graphs in the current batch: 32\n",
      "DataBatch(x=[224, 20], edge_index=[2, 384], y=[32], batch=[224], ptr=[33])\n",
      "\n",
      "Step 2:\n",
      "=======\n",
      "Number of graphs in the current batch: 32\n",
      "DataBatch(x=[188, 20], edge_index=[2, 312], y=[32], batch=[188], ptr=[33])\n",
      "\n",
      "Step 3:\n",
      "=======\n",
      "Number of graphs in the current batch: 32\n",
      "DataBatch(x=[161, 20], edge_index=[2, 258], y=[32], batch=[161], ptr=[33])\n",
      "\n",
      "Step 4:\n",
      "=======\n",
      "Number of graphs in the current batch: 32\n",
      "DataBatch(x=[171, 20], edge_index=[2, 278], y=[32], batch=[171], ptr=[33])\n",
      "\n",
      "Step 5:\n",
      "=======\n",
      "Number of graphs in the current batch: 32\n",
      "DataBatch(x=[143, 20], edge_index=[2, 222], y=[32], batch=[143], ptr=[33])\n",
      "\n",
      "Step 6:\n",
      "=======\n",
      "Number of graphs in the current batch: 32\n",
      "DataBatch(x=[149, 20], edge_index=[2, 234], y=[32], batch=[149], ptr=[33])\n",
      "\n",
      "Step 7:\n",
      "=======\n",
      "Number of graphs in the current batch: 32\n",
      "DataBatch(x=[153, 20], edge_index=[2, 242], y=[32], batch=[153], ptr=[33])\n",
      "\n",
      "Step 8:\n",
      "=======\n",
      "Number of graphs in the current batch: 32\n",
      "DataBatch(x=[181, 20], edge_index=[2, 298], y=[32], batch=[181], ptr=[33])\n",
      "\n",
      "Step 9:\n",
      "=======\n",
      "Number of graphs in the current batch: 32\n",
      "DataBatch(x=[166, 20], edge_index=[2, 268], y=[32], batch=[166], ptr=[33])\n",
      "\n",
      "Step 10:\n",
      "=======\n",
      "Number of graphs in the current batch: 32\n",
      "DataBatch(x=[149, 20], edge_index=[2, 234], y=[32], batch=[149], ptr=[33])\n",
      "\n",
      "Step 11:\n",
      "=======\n",
      "Number of graphs in the current batch: 32\n",
      "DataBatch(x=[225, 20], edge_index=[2, 386], y=[32], batch=[225], ptr=[33])\n",
      "\n",
      "Step 12:\n",
      "=======\n",
      "Number of graphs in the current batch: 32\n",
      "DataBatch(x=[168, 20], edge_index=[2, 272], y=[32], batch=[168], ptr=[33])\n",
      "\n",
      "Step 13:\n",
      "=======\n",
      "Number of graphs in the current batch: 32\n",
      "DataBatch(x=[172, 20], edge_index=[2, 280], y=[32], batch=[172], ptr=[33])\n",
      "\n",
      "Step 14:\n",
      "=======\n",
      "Number of graphs in the current batch: 32\n",
      "DataBatch(x=[156, 20], edge_index=[2, 248], y=[32], batch=[156], ptr=[33])\n",
      "\n",
      "Step 15:\n",
      "=======\n",
      "Number of graphs in the current batch: 32\n",
      "DataBatch(x=[155, 20], edge_index=[2, 246], y=[32], batch=[155], ptr=[33])\n",
      "\n",
      "Step 16:\n",
      "=======\n",
      "Number of graphs in the current batch: 32\n",
      "DataBatch(x=[161, 20], edge_index=[2, 258], y=[32], batch=[161], ptr=[33])\n",
      "\n",
      "Step 17:\n",
      "=======\n",
      "Number of graphs in the current batch: 32\n",
      "DataBatch(x=[169, 20], edge_index=[2, 274], y=[32], batch=[169], ptr=[33])\n",
      "\n",
      "Step 18:\n",
      "=======\n",
      "Number of graphs in the current batch: 32\n",
      "DataBatch(x=[166, 20], edge_index=[2, 268], y=[32], batch=[166], ptr=[33])\n",
      "\n"
     ]
    }
   ],
   "source": [
    "for step, data in enumerate(train_loader):\n",
    "    print(f'Step {step + 1}:')\n",
    "    print('=======')\n",
    "    print(f'Number of graphs in the current batch: {data.num_graphs}')\n",
    "    print(data)\n",
    "    print()"
   ]
  },
  {
   "cell_type": "code",
   "execution_count": 35,
   "metadata": {},
   "outputs": [
    {
     "name": "stdout",
     "output_type": "stream",
     "text": [
      "GCN(\n",
      "  (conv1): GCNConv(20, 64)\n",
      "  (conv2): GCNConv(64, 64)\n",
      "  (conv3): GCNConv(64, 64)\n",
      "  (lin): Linear(in_features=64, out_features=2, bias=True)\n",
      ")\n"
     ]
    }
   ],
   "source": [
    "class GCN(torch.nn.Module):\n",
    "    def __init__(self, hidden_channels):\n",
    "        super(GCN, self).__init__()\n",
    "        torch.manual_seed(12345)\n",
    "\n",
    "        self.hidden_channels = hidden_channels\n",
    "        self.conv1 = GCNConv(20, hidden_channels)\n",
    "        self.conv2 = GCNConv(hidden_channels, hidden_channels)\n",
    "        self.conv3 = GCNConv(hidden_channels, hidden_channels)\n",
    "        self.lin = Linear(hidden_channels, 2)\n",
    "\n",
    "\n",
    "    def forward(self, x, edge_index, batch):\n",
    "        # 1. Obtain node embeddings \n",
    "        x = self.conv1(x, edge_index)\n",
    "        x = x.relu()\n",
    "        x = self.conv2(x, edge_index)\n",
    "        x = x.relu()\n",
    "        x = self.conv3(x, edge_index)\n",
    "        \n",
    "        x = global_mean_pool(x, batch)  # [batch_size, hidden_channels]\n",
    "        \n",
    "        #print(x.size())\n",
    "        \n",
    "        # 3. Apply a final classifier\n",
    "        x = F.dropout(x, p=0.5, training=self.training)\n",
    "        x = self.lin(x)\n",
    "        \n",
    "        return x\n",
    "    \n",
    "model = GCN(hidden_channels=64)\n",
    "print(model)"
   ]
  },
  {
   "cell_type": "code",
   "execution_count": 36,
   "metadata": {},
   "outputs": [
    {
     "name": "stdout",
     "output_type": "stream",
     "text": [
      "Epoch: 001, Train Acc: 0.7882, Test Acc: 0.7812\n",
      "Epoch: 002, Train Acc: 0.7656, Test Acc: 0.7500\n",
      "Epoch: 003, Train Acc: 0.8524, Test Acc: 0.8281\n",
      "Epoch: 004, Train Acc: 0.8819, Test Acc: 0.8438\n",
      "Epoch: 005, Train Acc: 0.8767, Test Acc: 0.8438\n",
      "Epoch: 006, Train Acc: 0.8420, Test Acc: 0.8125\n",
      "Epoch: 007, Train Acc: 0.8941, Test Acc: 0.8281\n",
      "Epoch: 008, Train Acc: 0.9062, Test Acc: 0.7969\n",
      "Epoch: 009, Train Acc: 0.8906, Test Acc: 0.8750\n",
      "Epoch: 010, Train Acc: 0.9115, Test Acc: 0.8594\n",
      "Epoch: 011, Train Acc: 0.9132, Test Acc: 0.8281\n",
      "Epoch: 012, Train Acc: 0.9184, Test Acc: 0.8281\n",
      "Epoch: 013, Train Acc: 0.8958, Test Acc: 0.8594\n",
      "Epoch: 014, Train Acc: 0.9184, Test Acc: 0.8125\n",
      "Epoch: 015, Train Acc: 0.9253, Test Acc: 0.8281\n",
      "Epoch: 016, Train Acc: 0.9358, Test Acc: 0.8125\n",
      "Epoch: 017, Train Acc: 0.9323, Test Acc: 0.8281\n",
      "Epoch: 018, Train Acc: 0.9375, Test Acc: 0.8438\n",
      "Epoch: 019, Train Acc: 0.9323, Test Acc: 0.8281\n"
     ]
    }
   ],
   "source": [
    "model = GCN(hidden_channels=64)\n",
    "optimizer = torch.optim.Adam(model.parameters(), lr=0.01)\n",
    "criterion = torch.nn.CrossEntropyLoss()\n",
    "\n",
    "def train():\n",
    "    model.train()\n",
    "    \n",
    "\n",
    "    for epoch in range(1, 20):\n",
    "        \n",
    "        for data in train_loader:  # Iterate in batches over the training dataset.\n",
    "            out = model(data.x, data.edge_index, data.batch)  # Perform a single forward pass.\n",
    "            loss = criterion(out, data.y)  # Compute the loss.\n",
    "            loss.backward()  # Derive gradients.\n",
    "            optimizer.step()  # Update parameters based on gradients.\n",
    "            optimizer.zero_grad()  # Clear gradients.\n",
    "        train_acc = test(train_loader)\n",
    "        test_acc = test(test_loader)\n",
    "        print(f'Epoch: {epoch:03d}, Train Acc: {train_acc:.4f}, Test Acc: {test_acc:.4f}')\n",
    "\n",
    "\n",
    "\n",
    "def test(loader):\n",
    "    model.eval()\n",
    "\n",
    "    correct = 0\n",
    "    for data in loader:  # Iterate in batches over the training/test dataset.\n",
    "        out = model(data.x, data.edge_index, data.batch)  \n",
    "        pred = out.argmax(dim=1)  # Use the class with highest probability.\n",
    "        correct += int((pred == data.y).sum())  # Check against ground-truth labels.\n",
    "    return correct / len(loader.dataset)  # Derive ratio of correct predictions.\n",
    "\n",
    "\n",
    "train()\n"
   ]
  },
  {
   "cell_type": "code",
   "execution_count": 40,
   "metadata": {},
   "outputs": [
    {
     "data": {
      "image/png": "[encoded data removed]",
      "text/plain": [
       "<Figure size 432x288 with 1 Axes>"
      ]
     },
     "metadata": {},
     "output_type": "display_data"
    }
   ],
   "source": [
    "g = to_networkx(data, to_undirected=True)\n",
    "nx.draw(g)"
   ]
  },
  {
   "cell_type": "code",
   "execution_count": 41,
   "metadata": {},
   "outputs": [],
   "source": [
    "for data in test_loader:\n",
    "    out = model(data.x, data.edge_index, data.batch)\n",
    "    lab = data.y"
   ]
  },
  {
   "cell_type": "code",
   "execution_count": 42,
   "metadata": {},
   "outputs": [
    {
     "data": {
      "text/plain": [
       "tensor([ 0,  0,  0,  0,  0,  1,  1,  1,  2,  2,  3,  3,  3,  3,  3,  3,  3,  3,\n",
       "         4,  4,  4,  4,  4,  5,  5,  5,  5,  6,  6,  6,  7,  7,  7,  7,  7,  7,\n",
       "         7,  7,  8,  8,  9,  9,  9,  9, 10, 10, 10, 11, 11, 11, 11, 11, 11, 11,\n",
       "        11, 11, 12, 12, 12, 13, 13, 13, 13, 13, 13, 13, 13, 13, 14, 14, 15, 15,\n",
       "        15, 15, 15, 15, 16, 16, 16, 16, 16, 16, 16, 16, 16, 16, 16, 16, 17, 17,\n",
       "        17, 18, 18, 18, 18, 18, 18, 18, 18, 18, 18, 18, 19, 19, 20, 20, 21, 21,\n",
       "        21, 22, 22, 23, 23, 23, 23, 23, 23, 23, 23, 23, 23, 23, 24, 24, 25, 25,\n",
       "        26, 26, 26, 26, 26, 26, 26, 27, 27, 27, 27, 27, 27, 27, 27, 27, 27, 27,\n",
       "        28, 28, 29, 29, 29, 30, 30, 30, 30, 31, 31, 31, 31, 31, 31])"
      ]
     },
     "execution_count": 42,
     "metadata": {},
     "output_type": "execute_result"
    }
   ],
   "source": [
    "data.batch"
   ]
  },
  {
   "cell_type": "code",
   "execution_count": 43,
   "metadata": {},
   "outputs": [
    {
     "data": {
      "text/plain": [
       "32"
      ]
     },
     "execution_count": 43,
     "metadata": {},
     "output_type": "execute_result"
    }
   ],
   "source": [
    "data.num_graphs"
   ]
  },
  {
   "cell_type": "code",
   "execution_count": 44,
   "metadata": {},
   "outputs": [
    {
     "data": {
      "text/plain": [
       "159"
      ]
     },
     "execution_count": 44,
     "metadata": {},
     "output_type": "execute_result"
    }
   ],
   "source": [
    "data.num_nodes"
   ]
  },
  {
   "cell_type": "code",
   "execution_count": 45,
   "metadata": {},
   "outputs": [
    {
     "data": {
      "text/plain": [
       "torch.Size([159, 20])"
      ]
     },
     "execution_count": 45,
     "metadata": {},
     "output_type": "execute_result"
    }
   ],
   "source": [
    "data.x.shape"
   ]
  },
  {
   "cell_type": "code",
   "execution_count": 46,
   "metadata": {},
   "outputs": [
    {
     "data": {
      "text/plain": [
       "torch.Size([2, 254])"
      ]
     },
     "execution_count": 46,
     "metadata": {},
     "output_type": "execute_result"
    }
   ],
   "source": [
    "data.edge_index.shape"
   ]
  },
  {
   "cell_type": "code",
   "execution_count": 47,
   "metadata": {},
   "outputs": [
    {
     "data": {
      "text/plain": [
       "torch.Size([32])"
      ]
     },
     "execution_count": 47,
     "metadata": {},
     "output_type": "execute_result"
    }
   ],
   "source": [
    "data.y.shape"
   ]
  },
  {
   "cell_type": "code",
   "execution_count": null,
   "metadata": {},
   "outputs": [],
   "source": []
  },
  {
   "cell_type": "code",
   "execution_count": 48,
   "metadata": {},
   "outputs": [],
   "source": [
    "conv1 = GCNConv(20, 64)"
   ]
  },
  {
   "cell_type": "code",
   "execution_count": 49,
   "metadata": {},
   "outputs": [],
   "source": [
    "x = conv1(data.x,data.edge_index)"
   ]
  },
  {
   "cell_type": "code",
   "execution_count": 70,
   "metadata": {},
   "outputs": [
    {
     "data": {
      "text/plain": [
       "torch.Size([154, 64])"
      ]
     },
     "execution_count": 70,
     "metadata": {},
     "output_type": "execute_result"
    }
   ],
   "source": [
    "x.shape"
   ]
  },
  {
   "cell_type": "code",
   "execution_count": 71,
   "metadata": {},
   "outputs": [],
   "source": [
    "att = GlobalAttention(x, data.edge_index)"
   ]
  },
  {
   "cell_type": "code",
   "execution_count": 85,
   "metadata": {},
   "outputs": [
    {
     "data": {
      "text/plain": [
       "torch.Size([154, 64])"
      ]
     },
     "execution_count": 85,
     "metadata": {},
     "output_type": "execute_result"
    }
   ],
   "source": [
    "att.gate_nn.shape"
   ]
  },
  {
   "cell_type": "code",
   "execution_count": 89,
   "metadata": {},
   "outputs": [
    {
     "data": {
      "text/plain": [
       "torch.Size([32, 64])"
      ]
     },
     "execution_count": 89,
     "metadata": {},
     "output_type": "execute_result"
    }
   ],
   "source": [
    "global_mean_pool(att.gate_nn, data.batch).shape"
   ]
  },
  {
   "cell_type": "code",
   "execution_count": 61,
   "metadata": {},
   "outputs": [
    {
     "data": {
      "text/plain": [
       "torch.Size([32, 2])"
      ]
     },
     "execution_count": 61,
     "metadata": {},
     "output_type": "execute_result"
    }
   ],
   "source": [
    "out.shape"
   ]
  },
  {
   "cell_type": "code",
   "execution_count": 62,
   "metadata": {},
   "outputs": [
    {
     "data": {
      "text/plain": [
       "torch.Size([32])"
      ]
     },
     "execution_count": 62,
     "metadata": {},
     "output_type": "execute_result"
    }
   ],
   "source": [
    "lab.shape"
   ]
  },
  {
   "cell_type": "code",
   "execution_count": 63,
   "metadata": {},
   "outputs": [
    {
     "data": {
      "text/plain": [
       "<AxesSubplot:title={'center':'ROC Curves'}, xlabel='False Positive Rate', ylabel='True Positive Rate'>"
      ]
     },
     "execution_count": 63,
     "metadata": {},
     "output_type": "execute_result"
    },
    {
     "data": {
      "image/png": "[encoded data removed]",
      "text/plain": [
       "<Figure size 432x288 with 1 Axes>"
      ]
     },
     "metadata": {
      "needs_background": "light"
     },
     "output_type": "display_data"
    }
   ],
   "source": [
    "skplt.metrics.plot_roc(lab, out.detach().numpy())"
   ]
  },
  {
   "cell_type": "code",
   "execution_count": 102,
   "metadata": {},
   "outputs": [
    {
     "data": {
      "text/plain": [
       "tensor([[ 2.2462, -2.4537],\n",
       "        [ 7.6034, -8.5027],\n",
       "        [ 2.9989, -3.2956],\n",
       "        [ 2.7886, -3.0479],\n",
       "        [-1.7437,  2.1872],\n",
       "        [-1.2796,  1.6758],\n",
       "        [-0.3250,  0.5287],\n",
       "        [ 2.6257, -2.8674],\n",
       "        [ 1.8732, -1.9760],\n",
       "        [-1.7553,  2.2046],\n",
       "        [-1.5066,  1.9576],\n",
       "        [ 4.6090, -5.1747],\n",
       "        [ 0.3856, -0.2727],\n",
       "        [-1.1945,  1.6134],\n",
       "        [ 1.5878, -1.6243],\n",
       "        [-5.1605,  6.1338],\n",
       "        [-1.1872,  1.5404],\n",
       "        [-0.2895,  0.5211],\n",
       "        [-8.4703, 10.1710],\n",
       "        [-1.0354,  1.3945],\n",
       "        [-1.6628,  2.1594],\n",
       "        [ 2.0241, -2.1371],\n",
       "        [-1.2829,  1.6408],\n",
       "        [ 4.7655, -5.3197],\n",
       "        [-1.1997,  1.5662],\n",
       "        [ 4.1134, -4.6084],\n",
       "        [-0.4020,  0.6807],\n",
       "        [ 0.3095, -0.1938],\n",
       "        [-1.1689,  1.5585],\n",
       "        [ 1.2908, -1.3006],\n",
       "        [ 1.9227, -2.0764],\n",
       "        [-2.0251,  2.5803]], grad_fn=<AddmmBackward0>)"
      ]
     },
     "execution_count": 102,
     "metadata": {},
     "output_type": "execute_result"
    }
   ],
   "source": [
    "out"
   ]
  },
  {
   "cell_type": "code",
   "execution_count": null,
   "metadata": {},
   "outputs": [],
   "source": []
  }
 ],
 "metadata": {
  "interpreter": {
   "hash": "b3ba2566441a7c06988d0923437866b63cedc61552a5af99d1f4fb67d367b25f"
  },
  "kernelspec": {
   "display_name": "Python 3.9.7 ('base')",
   "language": "python",
   "name": "python3"
  },
  "language_info": {
   "codemirror_mode": {
    "name": "ipython",
    "version": 3
   },
   "file_extension": ".py",
   "mimetype": "text/x-python",
   "name": "python",
   "nbconvert_exporter": "python",
   "pygments_lexer": "ipython3",
   "version": "3.9.7"
  },
  "orig_nbformat": 4
 },
 "nbformat": 4,
 "nbformat_minor": 2
}

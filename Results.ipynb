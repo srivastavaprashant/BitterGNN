{
 "cells": [
  {
   "cell_type": "code",
   "execution_count": 1,
   "metadata": {},
   "outputs": [],
   "source": [
    "import os\n",
    "import itertools\n",
    "data_dir = 'data/'\n",
    "model_sir = 'models/'"
   ]
  },
  {
   "cell_type": "code",
   "execution_count": 2,
   "metadata": {},
   "outputs": [],
   "source": [
    "import pandas as pd\n",
    "import numpy as np\n",
    "import matplotlib.pyplot as plt\n",
    "import seaborn as sns\n",
    "\n",
    "import warnings\n",
    "warnings.filterwarnings(\"ignore\")"
   ]
  },
  {
   "cell_type": "code",
   "execution_count": 3,
   "metadata": {},
   "outputs": [],
   "source": [
    "from source.utils import read_data, preprocess, train, test, run_kfold_test\n",
    "from source.models import BitterGCN_Baseline, BitterGCN_MixedPool, BitterGAT_Baseline, \\\n",
    "    BitterGAT_MixedPool, BitterGraphSAGE_Baseline, BitterGraphSAGE_MixedPool\n",
    "        "
   ]
  },
  {
   "cell_type": "code",
   "execution_count": 4,
   "metadata": {},
   "outputs": [],
   "source": [
    "df = read_data(data_dir)"
   ]
  },
  {
   "cell_type": "code",
   "execution_count": 5,
   "metadata": {},
   "outputs": [
    {
     "data": {
      "text/plain": [
       "(Data(x=[2, 20], edge_index=[2, 2], y=0),\n",
       " Data(x=[8, 20], edge_index=[2, 14], y=1))"
      ]
     },
     "execution_count": 5,
     "metadata": {},
     "output_type": "execute_result"
    }
   ],
   "source": [
    "# k Fold\n",
    "nsplits = 10\n",
    "graph_data = preprocess(df)\n",
    "n=len(graph_data)\n",
    "graph_data[0], graph_data[7]"
   ]
  },
  {
   "cell_type": "code",
   "execution_count": 6,
   "metadata": {},
   "outputs": [],
   "source": [
    "acid_pop = np.unique([j for i in df[df.bitter=='Positive'].seq.apply(lambda x: list(x)).to_list() for j in i], return_counts=True)\n",
    "pos_pop = dict(zip(acid_pop[0], acid_pop[1]))\n",
    "pos_pop['C'] = 0\n",
    "acid_pop = np.unique([j for i in df[df.bitter=='Negative'].seq.apply(lambda x: list(x)).to_list() for j in i], return_counts=True)\n",
    "neg_pop = dict(zip(acid_pop[0], acid_pop[1]))\n",
    "pops=pd.DataFrame([pos_pop, neg_pop], index=['Pos', 'Neg']).T.sort_index()"
   ]
  },
  {
   "cell_type": "code",
   "execution_count": 7,
   "metadata": {},
   "outputs": [
    {
     "data": {
      "image/png": "[encoded data removed]",
      "text/plain": [
       "<Figure size 432x288 with 1 Axes>"
      ]
     },
     "metadata": {
      "needs_background": "light"
     },
     "output_type": "display_data"
    }
   ],
   "source": [
    "plt.bar(np.arange(20)-0.25, 100*pops['Pos']/pops['Pos'].sum(), width=0.5)\n",
    "plt.bar(np.arange(20)+0.25, 100*pops['Neg']/pops['Neg'].sum(), width=0.5)\n",
    "plt.xticks(np.arange(20), pops.index)\n",
    "#plt.title('Population of animo-acids in bitter and non-bitter peptides in BT640 dataset')\n",
    "plt.xlabel('Amino-acid descriptors')\n",
    "plt.ylabel('Percentage')\n",
    "plt.legend(['Bitter', 'Non-Bitter'])\n",
    "plt.show()"
   ]
  },
  {
   "cell_type": "code",
   "execution_count": 8,
   "metadata": {},
   "outputs": [],
   "source": [
    "met = ['ACC', 'ROC']\n",
    "gnns = ['GCN', 'GAT', 'GraphSAGE']\n",
    "pool = ['Baseline', 'MixedPool']"
   ]
  },
  {
   "cell_type": "code",
   "execution_count": 9,
   "metadata": {},
   "outputs": [],
   "source": [
    "import itertools"
   ]
  },
  {
   "cell_type": "code",
   "execution_count": 10,
   "metadata": {},
   "outputs": [
    {
     "data": {
      "text/html": [
       "<div>\n",
       "<style scoped>\n",
       "    .dataframe tbody tr th:only-of-type {\n",
       "        vertical-align: middle;\n",
       "    }\n",
       "\n",
       "    .dataframe tbody tr th {\n",
       "        vertical-align: top;\n",
       "    }\n",
       "\n",
       "    .dataframe thead th {\n",
       "        text-align: right;\n",
       "    }\n",
       "</style>\n",
       "<table border=\"1\" class=\"dataframe\">\n",
       "  <thead>\n",
       "    <tr style=\"text-align: right;\">\n",
       "      <th></th>\n",
       "      <th>ACC_GCN_Baseline</th>\n",
       "      <th>ROC_GCN_Baseline</th>\n",
       "      <th>ACC_GCN_MixedPool</th>\n",
       "      <th>ROC_GCN_MixedPool</th>\n",
       "      <th>ACC_GAT_Baseline</th>\n",
       "      <th>ROC_GAT_Baseline</th>\n",
       "      <th>ACC_GAT_MixedPool</th>\n",
       "      <th>ROC_GAT_MixedPool</th>\n",
       "      <th>ACC_GraphSAGE_Baseline</th>\n",
       "      <th>ROC_GraphSAGE_Baseline</th>\n",
       "      <th>ACC_GraphSAGE_MixedPool</th>\n",
       "      <th>ROC_GraphSAGE_MixedPool</th>\n",
       "    </tr>\n",
       "  </thead>\n",
       "  <tbody>\n",
       "    <tr>\n",
       "      <th>0</th>\n",
       "      <td>0.81</td>\n",
       "      <td>0.81</td>\n",
       "      <td>0.86</td>\n",
       "      <td>0.86</td>\n",
       "      <td>0.78</td>\n",
       "      <td>0.81</td>\n",
       "      <td>0.80</td>\n",
       "      <td>0.85</td>\n",
       "      <td>0.77</td>\n",
       "      <td>0.86</td>\n",
       "      <td>0.75</td>\n",
       "      <td>0.86</td>\n",
       "    </tr>\n",
       "    <tr>\n",
       "      <th>1</th>\n",
       "      <td>0.91</td>\n",
       "      <td>0.97</td>\n",
       "      <td>0.95</td>\n",
       "      <td>0.98</td>\n",
       "      <td>0.81</td>\n",
       "      <td>0.91</td>\n",
       "      <td>0.83</td>\n",
       "      <td>0.97</td>\n",
       "      <td>0.89</td>\n",
       "      <td>0.91</td>\n",
       "      <td>0.89</td>\n",
       "      <td>0.94</td>\n",
       "    </tr>\n",
       "    <tr>\n",
       "      <th>2</th>\n",
       "      <td>0.84</td>\n",
       "      <td>0.89</td>\n",
       "      <td>0.91</td>\n",
       "      <td>0.91</td>\n",
       "      <td>0.83</td>\n",
       "      <td>0.85</td>\n",
       "      <td>0.84</td>\n",
       "      <td>0.90</td>\n",
       "      <td>0.81</td>\n",
       "      <td>0.92</td>\n",
       "      <td>0.86</td>\n",
       "      <td>0.90</td>\n",
       "    </tr>\n",
       "    <tr>\n",
       "      <th>3</th>\n",
       "      <td>0.84</td>\n",
       "      <td>0.91</td>\n",
       "      <td>0.89</td>\n",
       "      <td>0.91</td>\n",
       "      <td>0.88</td>\n",
       "      <td>0.90</td>\n",
       "      <td>0.89</td>\n",
       "      <td>0.89</td>\n",
       "      <td>0.77</td>\n",
       "      <td>0.88</td>\n",
       "      <td>0.83</td>\n",
       "      <td>0.91</td>\n",
       "    </tr>\n",
       "    <tr>\n",
       "      <th>4</th>\n",
       "      <td>0.80</td>\n",
       "      <td>0.83</td>\n",
       "      <td>0.77</td>\n",
       "      <td>0.85</td>\n",
       "      <td>0.81</td>\n",
       "      <td>0.85</td>\n",
       "      <td>0.78</td>\n",
       "      <td>0.84</td>\n",
       "      <td>0.84</td>\n",
       "      <td>0.88</td>\n",
       "      <td>0.83</td>\n",
       "      <td>0.85</td>\n",
       "    </tr>\n",
       "    <tr>\n",
       "      <th>5</th>\n",
       "      <td>0.84</td>\n",
       "      <td>0.92</td>\n",
       "      <td>0.86</td>\n",
       "      <td>0.90</td>\n",
       "      <td>0.84</td>\n",
       "      <td>0.92</td>\n",
       "      <td>0.88</td>\n",
       "      <td>0.93</td>\n",
       "      <td>0.84</td>\n",
       "      <td>0.91</td>\n",
       "      <td>0.84</td>\n",
       "      <td>0.89</td>\n",
       "    </tr>\n",
       "    <tr>\n",
       "      <th>6</th>\n",
       "      <td>0.81</td>\n",
       "      <td>0.92</td>\n",
       "      <td>0.88</td>\n",
       "      <td>0.92</td>\n",
       "      <td>0.78</td>\n",
       "      <td>0.93</td>\n",
       "      <td>0.86</td>\n",
       "      <td>0.93</td>\n",
       "      <td>0.84</td>\n",
       "      <td>0.93</td>\n",
       "      <td>0.81</td>\n",
       "      <td>0.93</td>\n",
       "    </tr>\n",
       "    <tr>\n",
       "      <th>7</th>\n",
       "      <td>0.89</td>\n",
       "      <td>0.90</td>\n",
       "      <td>0.81</td>\n",
       "      <td>0.87</td>\n",
       "      <td>0.88</td>\n",
       "      <td>0.91</td>\n",
       "      <td>0.80</td>\n",
       "      <td>0.91</td>\n",
       "      <td>0.84</td>\n",
       "      <td>0.90</td>\n",
       "      <td>0.80</td>\n",
       "      <td>0.91</td>\n",
       "    </tr>\n",
       "    <tr>\n",
       "      <th>8</th>\n",
       "      <td>0.80</td>\n",
       "      <td>0.86</td>\n",
       "      <td>0.88</td>\n",
       "      <td>0.89</td>\n",
       "      <td>0.81</td>\n",
       "      <td>0.87</td>\n",
       "      <td>0.80</td>\n",
       "      <td>0.89</td>\n",
       "      <td>0.80</td>\n",
       "      <td>0.82</td>\n",
       "      <td>0.83</td>\n",
       "      <td>0.87</td>\n",
       "    </tr>\n",
       "    <tr>\n",
       "      <th>9</th>\n",
       "      <td>0.78</td>\n",
       "      <td>0.77</td>\n",
       "      <td>0.77</td>\n",
       "      <td>0.80</td>\n",
       "      <td>0.70</td>\n",
       "      <td>0.83</td>\n",
       "      <td>0.78</td>\n",
       "      <td>0.85</td>\n",
       "      <td>0.72</td>\n",
       "      <td>0.82</td>\n",
       "      <td>0.81</td>\n",
       "      <td>0.83</td>\n",
       "    </tr>\n",
       "  </tbody>\n",
       "</table>\n",
       "</div>"
      ],
      "text/plain": [
       "   ACC_GCN_Baseline  ROC_GCN_Baseline  ACC_GCN_MixedPool  ROC_GCN_MixedPool  \\\n",
       "0              0.81              0.81               0.86               0.86   \n",
       "1              0.91              0.97               0.95               0.98   \n",
       "2              0.84              0.89               0.91               0.91   \n",
       "3              0.84              0.91               0.89               0.91   \n",
       "4              0.80              0.83               0.77               0.85   \n",
       "5              0.84              0.92               0.86               0.90   \n",
       "6              0.81              0.92               0.88               0.92   \n",
       "7              0.89              0.90               0.81               0.87   \n",
       "8              0.80              0.86               0.88               0.89   \n",
       "9              0.78              0.77               0.77               0.80   \n",
       "\n",
       "   ACC_GAT_Baseline  ROC_GAT_Baseline  ACC_GAT_MixedPool  ROC_GAT_MixedPool  \\\n",
       "0              0.78              0.81               0.80               0.85   \n",
       "1              0.81              0.91               0.83               0.97   \n",
       "2              0.83              0.85               0.84               0.90   \n",
       "3              0.88              0.90               0.89               0.89   \n",
       "4              0.81              0.85               0.78               0.84   \n",
       "5              0.84              0.92               0.88               0.93   \n",
       "6              0.78              0.93               0.86               0.93   \n",
       "7              0.88              0.91               0.80               0.91   \n",
       "8              0.81              0.87               0.80               0.89   \n",
       "9              0.70              0.83               0.78               0.85   \n",
       "\n",
       "   ACC_GraphSAGE_Baseline  ROC_GraphSAGE_Baseline  ACC_GraphSAGE_MixedPool  \\\n",
       "0                    0.77                    0.86                     0.75   \n",
       "1                    0.89                    0.91                     0.89   \n",
       "2                    0.81                    0.92                     0.86   \n",
       "3                    0.77                    0.88                     0.83   \n",
       "4                    0.84                    0.88                     0.83   \n",
       "5                    0.84                    0.91                     0.84   \n",
       "6                    0.84                    0.93                     0.81   \n",
       "7                    0.84                    0.90                     0.80   \n",
       "8                    0.80                    0.82                     0.83   \n",
       "9                    0.72                    0.82                     0.81   \n",
       "\n",
       "   ROC_GraphSAGE_MixedPool  \n",
       "0                     0.86  \n",
       "1                     0.94  \n",
       "2                     0.90  \n",
       "3                     0.91  \n",
       "4                     0.85  \n",
       "5                     0.89  \n",
       "6                     0.93  \n",
       "7                     0.91  \n",
       "8                     0.87  \n",
       "9                     0.83  "
      ]
     },
     "execution_count": 10,
     "metadata": {},
     "output_type": "execute_result"
    }
   ],
   "source": [
    "res=pd.read_csv('kfold_res.tsv', sep='\\t')\n",
    "res"
   ]
  },
  {
   "cell_type": "code",
   "execution_count": 11,
   "metadata": {},
   "outputs": [
    {
     "name": "stdout",
     "output_type": "stream",
     "text": [
      "Average\n"
     ]
    },
    {
     "data": {
      "text/plain": [
       "ACC_GCN_Baseline           0.83\n",
       "ACC_GCN_MixedPool          0.86\n",
       "ACC_GAT_Baseline           0.81\n",
       "ACC_GAT_MixedPool          0.83\n",
       "ACC_GraphSAGE_Baseline     0.81\n",
       "ACC_GraphSAGE_MixedPool    0.82\n",
       "dtype: float64"
      ]
     },
     "execution_count": 11,
     "metadata": {},
     "output_type": "execute_result"
    }
   ],
   "source": [
    "accs = [i[0]+'_'+i[1] for i in list(itertools.product([i[0]+'_'+i[1] for i in list(itertools.product(['ACC'], gnns))],pool))]\n",
    "accs=res[accs]\n",
    "print('Average')\n",
    "accs.T.mean(axis=1).round(2)"
   ]
  },
  {
   "cell_type": "code",
   "execution_count": 12,
   "metadata": {},
   "outputs": [
    {
     "data": {
      "text/plain": [
       "ROC_GCN_Baseline           0.88\n",
       "ROC_GCN_MixedPool          0.89\n",
       "ROC_GAT_Baseline           0.88\n",
       "ROC_GAT_MixedPool          0.90\n",
       "ROC_GraphSAGE_Baseline     0.88\n",
       "ROC_GraphSAGE_MixedPool    0.89\n",
       "dtype: float64"
      ]
     },
     "execution_count": 12,
     "metadata": {},
     "output_type": "execute_result"
    }
   ],
   "source": [
    "rocs = [i[0]+'_'+i[1] for i in list(itertools.product([i[0]+'_'+i[1] for i in list(itertools.product(['ROC'], gnns))],pool))]\n",
    "rocs=res[rocs]\n",
    "rocs.T.mean(axis=1).round(2)"
   ]
  },
  {
   "cell_type": "code",
   "execution_count": null,
   "metadata": {},
   "outputs": [],
   "source": []
  },
  {
   "cell_type": "code",
   "execution_count": 13,
   "metadata": {},
   "outputs": [
    {
     "data": {
      "image/png": "[encoded data removed]",
      "text/plain": [
       "<Figure size 432x288 with 1 Axes>"
      ]
     },
     "metadata": {
      "needs_background": "light"
     },
     "output_type": "display_data"
    }
   ],
   "source": [
    "p1=plt.boxplot([accs['ACC_GCN_Baseline'], accs['ACC_GAT_Baseline'], accs['ACC_GraphSAGE_Baseline']], positions=[0.30,1.30,2.30])\n",
    "for item in ['boxes', 'whiskers', 'medians', 'caps', 'fliers']:\n",
    "    plt.setp(p1[item], color='orange')\n",
    "p2=plt.boxplot([accs['ACC_GCN_MixedPool'], accs['ACC_GAT_MixedPool'], accs['ACC_GraphSAGE_MixedPool']], positions=[0.70,1.70,2.70])\n",
    "for item in ['boxes', 'whiskers', 'medians', 'caps', 'fliers']:\n",
    "    plt.setp(p2[item], color='green')\n",
    "plt.xticks([0.5, 1.5, 2.5], ['GCN', 'GAT', 'GraphSAGE'])\n",
    "plt.legend([p1[\"medians\"][0], p2[\"medians\"][0]], ['MeanPool', 'MixedPool'])\n",
    "plt.xlabel('Graph Neural Network')\n",
    "plt.ylabel('Accuracy')\n",
    "plt.show()"
   ]
  },
  {
   "cell_type": "code",
   "execution_count": 14,
   "metadata": {},
   "outputs": [
    {
     "data": {
      "image/png": "[encoded data removed]",
      "text/plain": [
       "<Figure size 432x288 with 1 Axes>"
      ]
     },
     "metadata": {
      "needs_background": "light"
     },
     "output_type": "display_data"
    }
   ],
   "source": [
    "p1=plt.boxplot([rocs['ROC_GCN_Baseline'], rocs['ROC_GAT_Baseline'], rocs['ROC_GraphSAGE_Baseline']], positions=[0.30,1.30,2.30])\n",
    "for item in ['boxes', 'whiskers', 'medians', 'caps', 'fliers']:\n",
    "    plt.setp(p1[item], color='orange')\n",
    "p2=plt.boxplot([rocs['ROC_GCN_MixedPool'], rocs['ROC_GAT_MixedPool'], rocs['ROC_GraphSAGE_MixedPool']], positions=[0.70,1.70,2.70])\n",
    "for item in ['boxes', 'whiskers', 'medians', 'caps', 'fliers']:\n",
    "    plt.setp(p2[item], color='green')\n",
    "plt.xticks([0.5, 1.5, 2.5], ['GCN', 'GAT', 'GraphSAGE'])\n",
    "plt.legend([p1[\"medians\"][0], p2[\"medians\"][0]], ['MeanPool', 'MixedPool'])\n",
    "plt.xlabel('Graph Neural Network')\n",
    "plt.ylabel('Accuracy')\n",
    "plt.show()"
   ]
  },
  {
   "cell_type": "code",
   "execution_count": null,
   "metadata": {},
   "outputs": [],
   "source": []
  }
 ],
 "metadata": {
  "kernelspec": {
   "display_name": "Python 3.9.12 ('bittergcn')",
   "language": "python",
   "name": "python3"
  },
  "language_info": {
   "codemirror_mode": {
    "name": "ipython",
    "version": 3
   },
   "file_extension": ".py",
   "mimetype": "text/x-python",
   "name": "python",
   "nbconvert_exporter": "python",
   "pygments_lexer": "ipython3",
   "version": "3.9.12"
  },
  "orig_nbformat": 4,
  "vscode": {
   "interpreter": {
    "hash": "70d680ff6d465e39e32d4aba16f881a1997a3179fab20e951184281a6d1cc528"
   }
  }
 },
 "nbformat": 4,
 "nbformat_minor": 2
}
